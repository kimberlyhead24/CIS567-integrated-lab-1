{
  "nbformat": 4,
  "nbformat_minor": 0,
  "metadata": {
    "colab": {
      "provenance": [],
      "authorship_tag": "ABX9TyMiZdaDq0d+Mx0ZCG0QZv5w",
      "include_colab_link": true
    },
    "kernelspec": {
      "name": "python3",
      "display_name": "Python 3"
    },
    "language_info": {
      "name": "python"
    }
  },
  "cells": [
    {
      "cell_type": "markdown",
      "metadata": {
        "id": "view-in-github",
        "colab_type": "text"
      },
      "source": [
        "<a href=\"https://colab.research.google.com/github/kimberlyhead24/CIS567-integrated-lab-1/blob/main/5thLecture.ipynb\" target=\"_parent\"><img src=\"https://colab.research.google.com/assets/colab-badge.svg\" alt=\"Open In Colab\"/></a>"
      ]
    },
    {
      "cell_type": "code",
      "execution_count": 2,
      "metadata": {
        "colab": {
          "base_uri": "https://localhost:8080/"
        },
        "id": "nGoJSJCCxSsj",
        "outputId": "48ad43df-3f0b-4be2-f452-7dc81854aa5e"
      },
      "outputs": [
        {
          "output_type": "stream",
          "name": "stdout",
          "text": [
            "Enter a number: 11\n",
            "Enter a number: 12\n",
            "Enter a number: 5\n",
            "There are 2 numbers greater than 10\n"
          ]
        }
      ],
      "source": [
        "count = 0\n",
        "for i in range(3):\n",
        "  num = eval(input('Enter a number: '))\n",
        "  if num>10:\n",
        "    count = count+1\n",
        "print('There are', count, 'numbers greater than 10')"
      ]
    },
    {
      "cell_type": "code",
      "source": [
        "count1 = 0\n",
        "count2 = 0\n",
        "for i in range(5):\n",
        "  num = eval(input('Enter a number: '))\n",
        "  if num>10:\n",
        "    count1 = count1+1\n",
        "  if num==0:\n",
        "    count2 = count2+1\n",
        "print('There are', count1, 'numbers greater than 10')\n",
        "print('There are', count2, 'numbers equal to 10')"
      ],
      "metadata": {
        "colab": {
          "base_uri": "https://localhost:8080/"
        },
        "id": "T3YeR-NXxwXx",
        "outputId": "af6c848b-9344-46e4-9675-1dee99ac369b"
      },
      "execution_count": 4,
      "outputs": [
        {
          "output_type": "stream",
          "name": "stdout",
          "text": [
            "Enter a number: 5\n",
            "Enter a number: 10\n",
            "Enter a number: 24\n",
            "Enter a number: 27\n",
            "Enter a number: 0\n",
            "There are 2 numbers greater than 10\n",
            "There are 1 numbers equal to 10\n"
          ]
        }
      ]
    },
    {
      "cell_type": "code",
      "source": [
        "count = 0\n",
        "for i in range(1, 101):\n",
        "  if (i**2)%10==4:\n",
        "    count = count+1\n",
        "print('There are', count, 'numbers whose square ends with 4')"
      ],
      "metadata": {
        "colab": {
          "base_uri": "https://localhost:8080/"
        },
        "id": "kkyfBhIJymiW",
        "outputId": "8230f122-194d-4d6f-a66f-777124fee54a"
      },
      "execution_count": 5,
      "outputs": [
        {
          "output_type": "stream",
          "name": "stdout",
          "text": [
            "There are 20 numbers whose square ends with 4\n"
          ]
        }
      ]
    },
    {
      "cell_type": "code",
      "source": [
        "s = 0\n",
        "for i in range(1,101):\n",
        "  s = s+i\n",
        "print('The sum is', s)"
      ],
      "metadata": {
        "colab": {
          "base_uri": "https://localhost:8080/"
        },
        "id": "S9trsSCmzZG1",
        "outputId": "1178338f-8325-4135-e8db-a1a43d35962c"
      },
      "execution_count": 7,
      "outputs": [
        {
          "output_type": "stream",
          "name": "stdout",
          "text": [
            "The sum is 5050\n"
          ]
        }
      ]
    },
    {
      "cell_type": "code",
      "source": [
        "s = 0\n",
        "for i in range(10):\n",
        "  num = eval(input('Enter a number: '))\n",
        "  s = s+num\n",
        "print('The average is', s/10)"
      ],
      "metadata": {
        "colab": {
          "base_uri": "https://localhost:8080/"
        },
        "id": "YmZp6DTDzsMJ",
        "outputId": "950a4116-806e-4db2-b1f7-4d8bd1ebbfef"
      },
      "execution_count": 8,
      "outputs": [
        {
          "output_type": "stream",
          "name": "stdout",
          "text": [
            "Enter a number: 5\n",
            "Enter a number: 6\n",
            "Enter a number: 7\n",
            "Enter a number: 3\n",
            "Enter a number: 8\n",
            "Enter a number: 4\n",
            "Enter a number: 6\n",
            "Enter a number: 5\n",
            "Enter a number: 7\n",
            "Enter a number: 7\n",
            "The average is 5.8\n"
          ]
        }
      ]
    },
    {
      "cell_type": "code",
      "source": [
        "score = 0\n",
        "for rounds in range(10):\n",
        "  score = score + 10\n",
        "print(\"Your score is\", score)"
      ],
      "metadata": {
        "colab": {
          "base_uri": "https://localhost:8080/"
        },
        "id": "NZgf9mSa0BOi",
        "outputId": "18acb8ac-24b4-4e48-c116-85c50cf1d95d"
      },
      "execution_count": 9,
      "outputs": [
        {
          "output_type": "stream",
          "name": "stdout",
          "text": [
            "Your score is 100\n"
          ]
        }
      ]
    },
    {
      "cell_type": "code",
      "source": [
        "\n",
        "x = 3\n",
        "y = 5\n",
        "hold = x\n",
        "x=y\n",
        "y=hold\n",
        "print('x =', x)\n",
        "print('y =', y)"
      ],
      "metadata": {
        "colab": {
          "base_uri": "https://localhost:8080/"
        },
        "id": "yD56FPXQ0dPL",
        "outputId": "a62ed07b-b5bd-4b89-9a8a-963799e86acf"
      },
      "execution_count": 11,
      "outputs": [
        {
          "output_type": "stream",
          "name": "stdout",
          "text": [
            "x = 5\n",
            "y = 3\n"
          ]
        }
      ]
    },
    {
      "cell_type": "code",
      "source": [
        "x=3\n",
        "y=5\n",
        "x,y = y,x\n",
        "print(x,y)"
      ],
      "metadata": {
        "colab": {
          "base_uri": "https://localhost:8080/"
        },
        "id": "my9X4ECI0zi2",
        "outputId": "e2e2a525-4021-4e76-c670-afbf6633633c"
      },
      "execution_count": 12,
      "outputs": [
        {
          "output_type": "stream",
          "name": "stdout",
          "text": [
            "5 3\n"
          ]
        }
      ]
    },
    {
      "cell_type": "code",
      "source": [
        "num = eval(input('Enter your number:'))\n",
        "flag = 0\n",
        "for i in range(2,num):\n",
        "  if num%i==0:\n",
        "    flag = 1\n",
        "if flag==1:\n",
        "  print('Not prime')\n",
        "else:\n",
        "  print('Prime')"
      ],
      "metadata": {
        "colab": {
          "base_uri": "https://localhost:8080/"
        },
        "id": "CvkhXLkH1rXx",
        "outputId": "1c45bebf-2a92-45e9-8e88-e81eb5a53a80"
      },
      "execution_count": 17,
      "outputs": [
        {
          "output_type": "stream",
          "name": "stdout",
          "text": [
            "Enter your number:5\n",
            "Prime\n"
          ]
        }
      ]
    },
    {
      "cell_type": "code",
      "source": [
        "if 10%2 == 0:\n",
        "  print('yes')\n",
        "else:\n",
        "  print('no')"
      ],
      "metadata": {
        "colab": {
          "base_uri": "https://localhost:8080/"
        },
        "id": "GLNl-qe82rWR",
        "outputId": "647c89cd-4eca-490c-97e4-1ab52152e661"
      },
      "execution_count": 16,
      "outputs": [
        {
          "output_type": "stream",
          "name": "stdout",
          "text": [
            "yes\n"
          ]
        }
      ]
    },
    {
      "cell_type": "code",
      "source": [
        "largest = eval(input('Enter a positive number: '))\n",
        "for i in range(9):\n",
        "  print('Current largest:', largest)\n",
        "  num = eval(input('Enter a positive number: '))\n",
        "  if num>largest:\n",
        "    largest = num\n",
        "print('Largest Number:', largest)"
      ],
      "metadata": {
        "colab": {
          "base_uri": "https://localhost:8080/"
        },
        "id": "EYSDaTaH3E51",
        "outputId": "2f12ef66-0a00-4376-b23e-e10f04bbbfca"
      },
      "execution_count": 18,
      "outputs": [
        {
          "output_type": "stream",
          "name": "stdout",
          "text": [
            "Enter a positive number: 10\n",
            "Current largest: 10\n",
            "Enter a positive number: 25\n",
            "Current largest: 25\n",
            "Enter a positive number: 30\n",
            "Current largest: 30\n",
            "Enter a positive number: 15\n",
            "Current largest: 30\n",
            "Enter a positive number: 9\n",
            "Current largest: 30\n",
            "Enter a positive number: 50\n",
            "Current largest: 50\n",
            "Enter a positive number: 99\n",
            "Current largest: 99\n",
            "Enter a positive number: 5\n",
            "Current largest: 99\n",
            "Enter a positive number: 66\n",
            "Current largest: 99\n",
            "Enter a positive number: 45\n",
            "Largest Number: 99\n"
          ]
        }
      ]
    },
    {
      "cell_type": "code",
      "source": [
        "smallest = eval(input('Enter a positive number: '))\n",
        "for i in range(9):\n",
        "  print('Current smallest:', smallest)\n",
        "  num = eval(input('Enter a positive number: '))\n",
        "  if num<smallest:\n",
        "    smallest = num\n",
        "print('Smallest Number:', smallest)"
      ],
      "metadata": {
        "colab": {
          "base_uri": "https://localhost:8080/"
        },
        "id": "Bxx5Mhj36xJU",
        "outputId": "5502b264-54e7-4730-dfbe-cf149ef98c7e"
      },
      "execution_count": 19,
      "outputs": [
        {
          "output_type": "stream",
          "name": "stdout",
          "text": [
            "Enter a positive number: 10\n",
            "Current smallest: 10\n",
            "Enter a positive number: 24\n",
            "Current smallest: 10\n",
            "Enter a positive number: 45\n",
            "Current smallest: 10\n",
            "Enter a positive number: 99\n",
            "Current smallest: 10\n",
            "Enter a positive number: 66\n",
            "Current smallest: 10\n",
            "Enter a positive number: 5\n",
            "Current smallest: 5\n",
            "Enter a positive number: 30\n",
            "Current smallest: 5\n",
            "Enter a positive number: 2\n",
            "Current smallest: 2\n",
            "Enter a positive number: 1\n",
            "Current smallest: 1\n",
            "Enter a positive number: 1\n",
            "Smallest Number: 1\n"
          ]
        }
      ]
    },
    {
      "cell_type": "code",
      "source": [
        "# a slightly sneaky way to get two values at once\n",
        "num1, num2 = eval(input('Enter two numbers separated by commas: '))\n",
        "print(num1, num2)"
      ],
      "metadata": {
        "colab": {
          "base_uri": "https://localhost:8080/"
        },
        "id": "_Pr7q08l7FVh",
        "outputId": "0a870e41-ee0d-4615-c2c5-3e20b4013cd5"
      },
      "execution_count": 20,
      "outputs": [
        {
          "output_type": "stream",
          "name": "stdout",
          "text": [
            "Enter two numbers separated by commas: 3, 5\n",
            "3 5\n"
          ]
        }
      ]
    },
    {
      "cell_type": "code",
      "source": [
        "count = 0\n",
        "count = count + 2 # each divisor contributes to the count"
      ],
      "metadata": {
        "id": "96kf2Qnt7hkq"
      },
      "execution_count": 22,
      "outputs": []
    },
    {
      "cell_type": "code",
      "source": [
        "\"\"\"\n",
        "print('This line and the next are inside a comment.')\n",
        "print('This line will not execute')\n",
        "\"\"\"\n",
        "\n",
        "print('This line is not in a comment and it will be executed.')"
      ],
      "metadata": {
        "id": "7BTx97L57-zR"
      },
      "execution_count": null,
      "outputs": []
    },
    {
      "cell_type": "code",
      "source": [
        "\"\"\" Program name: Hello world\n",
        "         Author: Kimberly Head\n",
        "         Date 9/16/25 \"\"\"\n",
        "print('Hello world')"
      ],
      "metadata": {
        "colab": {
          "base_uri": "https://localhost:8080/"
        },
        "id": "eptzfVIH7pbG",
        "outputId": "5df3d66b-7802-4a4f-96f4-a0bdcb5a600b"
      },
      "execution_count": 21,
      "outputs": [
        {
          "output_type": "stream",
          "name": "stdout",
          "text": [
            "Hello world\n"
          ]
        }
      ]
    },
    {
      "cell_type": "code",
      "source": [
        "num = eval(input('Enter your guess: '))\n",
        "flag = 0\n",
        "for i in range(2,num):\n",
        "  if num%i==0:\n",
        "    flag = 1\n",
        "  input()\n",
        "\n",
        "  print(i, flag)\n"
      ],
      "metadata": {
        "colab": {
          "base_uri": "https://localhost:8080/"
        },
        "id": "8sZ4if0S8uKq",
        "outputId": "38e50cc8-8dee-4147-a04b-9b7ac22066ab"
      },
      "execution_count": 27,
      "outputs": [
        {
          "output_type": "stream",
          "name": "stdout",
          "text": [
            "Enter your guess: 9\n",
            "\n",
            "2 0\n",
            "\n",
            "3 1\n",
            "\n",
            "4 1\n",
            "\n",
            "5 1\n",
            "\n",
            "6 1\n",
            "\n",
            "7 1\n",
            "\n",
            "8 1\n"
          ]
        }
      ]
    },
    {
      "cell_type": "code",
      "source": [
        "print(i)"
      ],
      "metadata": {
        "colab": {
          "base_uri": "https://localhost:8080/"
        },
        "id": "X_geUcn0-bP2",
        "outputId": "d901be90-ca9a-48aa-c56a-59862746b89e"
      },
      "execution_count": 28,
      "outputs": [
        {
          "output_type": "stream",
          "name": "stdout",
          "text": [
            "8\n"
          ]
        }
      ]
    },
    {
      "cell_type": "code",
      "source": [
        "print(flag)"
      ],
      "metadata": {
        "colab": {
          "base_uri": "https://localhost:8080/"
        },
        "id": "WAfvnd6L-oHj",
        "outputId": "d302b68d-5792-492a-875f-e8f40921e35d"
      },
      "execution_count": 29,
      "outputs": [
        {
          "output_type": "stream",
          "name": "stdout",
          "text": [
            "1\n"
          ]
        }
      ]
    },
    {
      "cell_type": "code",
      "source": [
        "from random import randint\n",
        "\n",
        "rand_num = randint(5,25)\n",
        "print(rand_num)\n",
        "for i in range(rand_num):\n",
        "  print('Hello')"
      ],
      "metadata": {
        "colab": {
          "base_uri": "https://localhost:8080/"
        },
        "id": "-0oqVhAr-sgT",
        "outputId": "2574bde0-f170-412b-c58a-520c5dd5b0cd"
      },
      "execution_count": 31,
      "outputs": [
        {
          "output_type": "stream",
          "name": "stdout",
          "text": [
            "9\n",
            "Hello\n",
            "Hello\n",
            "Hello\n",
            "Hello\n",
            "Hello\n",
            "Hello\n",
            "Hello\n",
            "Hello\n",
            "Hello\n"
          ]
        }
      ]
    },
    {
      "cell_type": "code",
      "source": [],
      "metadata": {
        "id": "4DCySlrC_L0g"
      },
      "execution_count": null,
      "outputs": []
    }
  ]
}