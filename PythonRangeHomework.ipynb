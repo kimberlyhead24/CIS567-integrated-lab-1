{
  "nbformat": 4,
  "nbformat_minor": 0,
  "metadata": {
    "colab": {
      "provenance": [],
      "authorship_tag": "ABX9TyMk34M+Mb38UUcAnX0LIDk4",
      "include_colab_link": true
    },
    "kernelspec": {
      "name": "python3",
      "display_name": "Python 3"
    },
    "language_info": {
      "name": "python"
    }
  },
  "cells": [
    {
      "cell_type": "markdown",
      "metadata": {
        "id": "view-in-github",
        "colab_type": "text"
      },
      "source": [
        "<a href=\"https://colab.research.google.com/github/kimberlyhead24/CIS567-integrated-lab-1/blob/main/PythonRangeHomework.ipynb\" target=\"_parent\"><img src=\"https://colab.research.google.com/assets/colab-badge.svg\" alt=\"Open In Colab\"/></a>"
      ]
    },
    {
      "cell_type": "code",
      "execution_count": 3,
      "metadata": {
        "colab": {
          "base_uri": "https://localhost:8080/"
        },
        "id": "4658-SIxEKVF",
        "outputId": "4459ea49-c767-441d-e2dc-2b27f341d0dd"
      },
      "outputs": [
        {
          "output_type": "stream",
          "name": "stdout",
          "text": [
            "Kimberly\n",
            "Kimberly\n",
            "Kimberly\n",
            "Kimberly\n",
            "Kimberly\n",
            "Kimberly\n",
            "Kimberly\n",
            "Kimberly\n",
            "Kimberly\n",
            "Kimberly\n",
            "Kimberly\n",
            "Kimberly\n",
            "Kimberly\n",
            "Kimberly\n",
            "Kimberly\n",
            "Kimberly\n",
            "Kimberly\n",
            "Kimberly\n",
            "Kimberly\n",
            "Kimberly\n",
            "Kimberly\n",
            "Kimberly\n",
            "Kimberly\n",
            "Kimberly\n",
            "Kimberly\n",
            "Kimberly\n",
            "Kimberly\n",
            "Kimberly\n",
            "Kimberly\n",
            "Kimberly\n",
            "Kimberly\n",
            "Kimberly\n",
            "Kimberly\n",
            "Kimberly\n",
            "Kimberly\n",
            "Kimberly\n",
            "Kimberly\n",
            "Kimberly\n",
            "Kimberly\n",
            "Kimberly\n",
            "Kimberly\n",
            "Kimberly\n",
            "Kimberly\n",
            "Kimberly\n",
            "Kimberly\n",
            "Kimberly\n",
            "Kimberly\n",
            "Kimberly\n",
            "Kimberly\n",
            "Kimberly\n",
            "Kimberly\n",
            "Kimberly\n",
            "Kimberly\n",
            "Kimberly\n",
            "Kimberly\n",
            "Kimberly\n",
            "Kimberly\n",
            "Kimberly\n",
            "Kimberly\n",
            "Kimberly\n",
            "Kimberly\n",
            "Kimberly\n",
            "Kimberly\n",
            "Kimberly\n",
            "Kimberly\n",
            "Kimberly\n",
            "Kimberly\n",
            "Kimberly\n",
            "Kimberly\n",
            "Kimberly\n",
            "Kimberly\n",
            "Kimberly\n",
            "Kimberly\n",
            "Kimberly\n",
            "Kimberly\n",
            "Kimberly\n",
            "Kimberly\n",
            "Kimberly\n",
            "Kimberly\n",
            "Kimberly\n",
            "Kimberly\n",
            "Kimberly\n",
            "Kimberly\n",
            "Kimberly\n",
            "Kimberly\n",
            "Kimberly\n",
            "Kimberly\n",
            "Kimberly\n",
            "Kimberly\n",
            "Kimberly\n",
            "Kimberly\n",
            "Kimberly\n",
            "Kimberly\n",
            "Kimberly\n",
            "Kimberly\n",
            "Kimberly\n",
            "Kimberly\n",
            "Kimberly\n",
            "Kimberly\n",
            "Kimberly\n"
          ]
        }
      ],
      "source": [
        "for i in range(100):\n",
        "  print('Kimberly')\n"
      ]
    },
    {
      "cell_type": "code",
      "source": [
        "print((\"Kimberly\\n\") * 100)"
      ],
      "metadata": {
        "colab": {
          "base_uri": "https://localhost:8080/"
        },
        "id": "wtOeLqbSEz-M",
        "outputId": "83151ecd-ad5e-4daa-a939-411fb9f5ff6a"
      },
      "execution_count": 4,
      "outputs": [
        {
          "output_type": "stream",
          "name": "stdout",
          "text": [
            "Kimberly\n",
            "Kimberly\n",
            "Kimberly\n",
            "Kimberly\n",
            "Kimberly\n",
            "Kimberly\n",
            "Kimberly\n",
            "Kimberly\n",
            "Kimberly\n",
            "Kimberly\n",
            "Kimberly\n",
            "Kimberly\n",
            "Kimberly\n",
            "Kimberly\n",
            "Kimberly\n",
            "Kimberly\n",
            "Kimberly\n",
            "Kimberly\n",
            "Kimberly\n",
            "Kimberly\n",
            "Kimberly\n",
            "Kimberly\n",
            "Kimberly\n",
            "Kimberly\n",
            "Kimberly\n",
            "Kimberly\n",
            "Kimberly\n",
            "Kimberly\n",
            "Kimberly\n",
            "Kimberly\n",
            "Kimberly\n",
            "Kimberly\n",
            "Kimberly\n",
            "Kimberly\n",
            "Kimberly\n",
            "Kimberly\n",
            "Kimberly\n",
            "Kimberly\n",
            "Kimberly\n",
            "Kimberly\n",
            "Kimberly\n",
            "Kimberly\n",
            "Kimberly\n",
            "Kimberly\n",
            "Kimberly\n",
            "Kimberly\n",
            "Kimberly\n",
            "Kimberly\n",
            "Kimberly\n",
            "Kimberly\n",
            "Kimberly\n",
            "Kimberly\n",
            "Kimberly\n",
            "Kimberly\n",
            "Kimberly\n",
            "Kimberly\n",
            "Kimberly\n",
            "Kimberly\n",
            "Kimberly\n",
            "Kimberly\n",
            "Kimberly\n",
            "Kimberly\n",
            "Kimberly\n",
            "Kimberly\n",
            "Kimberly\n",
            "Kimberly\n",
            "Kimberly\n",
            "Kimberly\n",
            "Kimberly\n",
            "Kimberly\n",
            "Kimberly\n",
            "Kimberly\n",
            "Kimberly\n",
            "Kimberly\n",
            "Kimberly\n",
            "Kimberly\n",
            "Kimberly\n",
            "Kimberly\n",
            "Kimberly\n",
            "Kimberly\n",
            "Kimberly\n",
            "Kimberly\n",
            "Kimberly\n",
            "Kimberly\n",
            "Kimberly\n",
            "Kimberly\n",
            "Kimberly\n",
            "Kimberly\n",
            "Kimberly\n",
            "Kimberly\n",
            "Kimberly\n",
            "Kimberly\n",
            "Kimberly\n",
            "Kimberly\n",
            "Kimberly\n",
            "Kimberly\n",
            "Kimberly\n",
            "Kimberly\n",
            "Kimberly\n",
            "Kimberly\n",
            "\n"
          ]
        }
      ]
    },
    {
      "cell_type": "code",
      "source": [
        "for i in range(100,0,-2):\n",
        "  print(i)"
      ],
      "metadata": {
        "colab": {
          "base_uri": "https://localhost:8080/"
        },
        "id": "Fd-9RRSOE20A",
        "outputId": "ec8e18e6-5206-4cb2-ccec-7c570f2dd220"
      },
      "execution_count": 8,
      "outputs": [
        {
          "output_type": "stream",
          "name": "stdout",
          "text": [
            "100\n",
            "98\n",
            "96\n",
            "94\n",
            "92\n",
            "90\n",
            "88\n",
            "86\n",
            "84\n",
            "82\n",
            "80\n",
            "78\n",
            "76\n",
            "74\n",
            "72\n",
            "70\n",
            "68\n",
            "66\n",
            "64\n",
            "62\n",
            "60\n",
            "58\n",
            "56\n",
            "54\n",
            "52\n",
            "50\n",
            "48\n",
            "46\n",
            "44\n",
            "42\n",
            "40\n",
            "38\n",
            "36\n",
            "34\n",
            "32\n",
            "30\n",
            "28\n",
            "26\n",
            "24\n",
            "22\n",
            "20\n",
            "18\n",
            "16\n",
            "14\n",
            "12\n",
            "10\n",
            "8\n",
            "6\n",
            "4\n",
            "2\n"
          ]
        }
      ]
    },
    {
      "cell_type": "code",
      "source": [
        "for letter in range(10):\n",
        "  print(\"A\", end=\"\")\n",
        "for letter in range(7):\n",
        "  print(\"B\", end='')\n",
        "for letter in range(4):\n",
        "  print(\"CD\", end='')\n",
        "print(\"E\", end='')\n",
        "for letter in range(6):\n",
        "  print(\"F\", end='')\n",
        "print(\"G\", end='')"
      ],
      "metadata": {
        "colab": {
          "base_uri": "https://localhost:8080/"
        },
        "id": "fP0d_pzoFM_k",
        "outputId": "bee35349-212c-41c8-f634-f873b20883fd"
      },
      "execution_count": 11,
      "outputs": [
        {
          "output_type": "stream",
          "name": "stdout",
          "text": [
            "AAAAAAAAAABBBBBBBCDCDCDCDEFFFFFFG"
          ]
        }
      ]
    },
    {
      "cell_type": "code",
      "source": [
        "num = eval(input('Enter Number:'))\n",
        "name = input('Enter Name:')\n",
        "for amount in range(num):\n",
        "  print(name)"
      ],
      "metadata": {
        "colab": {
          "base_uri": "https://localhost:8080/"
        },
        "id": "Yi9GG1apHa8d",
        "outputId": "c14cae91-5889-43b1-bfdb-702910775633"
      },
      "execution_count": 16,
      "outputs": [
        {
          "output_type": "stream",
          "name": "stdout",
          "text": [
            "Enter Number:2\n",
            "Enter Name:Kimberly\n",
            "Kimberly\n",
            "Kimberly\n"
          ]
        }
      ]
    },
    {
      "cell_type": "code",
      "source": [
        "wide = eval(input(\"Enter Width:\"))\n",
        "high = eval(input(\"Enter Height:\"))\n",
        "for i in range(high):\n",
        "    print(\"*\"*wide)"
      ],
      "metadata": {
        "colab": {
          "base_uri": "https://localhost:8080/"
        },
        "id": "UOIG60xAJPdp",
        "outputId": "97eca90b-d739-4d26-e3cd-bc292dbbfc68"
      },
      "execution_count": 22,
      "outputs": [
        {
          "output_type": "stream",
          "name": "stdout",
          "text": [
            "Enter Width:20\n",
            "Enter Height:4\n",
            "********************\n",
            "********************\n",
            "********************\n",
            "********************\n"
          ]
        }
      ]
    },
    {
      "cell_type": "code",
      "source": [
        "height = (eval(input(\"Enter Height:\")))\n",
        "for i in range(height):\n",
        "  print('*' * i)\n"
      ],
      "metadata": {
        "colab": {
          "base_uri": "https://localhost:8080/"
        },
        "id": "4c6xL0ckKI2Z",
        "outputId": "b6162c27-ef68-424b-defb-4ff223f498b4"
      },
      "execution_count": 26,
      "outputs": [
        {
          "output_type": "stream",
          "name": "stdout",
          "text": [
            "Enter Height:5\n",
            "\n",
            "*\n",
            "**\n",
            "***\n",
            "****\n"
          ]
        }
      ]
    },
    {
      "cell_type": "code",
      "source": [
        "height = eval(input(\"Enter Height: \"))\n",
        "for i in range(height // 2 + 1):\n",
        "    print(' ' * ((height // 2) - i) + '*' * (2 * i + 1))\n",
        "for i in range(height // 2 - 1, -1, -1):\n",
        "    print(' ' * ((height // 2) - i) + '*' * (2 * i + 1))"
      ],
      "metadata": {
        "colab": {
          "base_uri": "https://localhost:8080/"
        },
        "id": "AFUKvXLVLiIO",
        "outputId": "c69c3e55-1d95-4523-b15f-ce298c24a43e"
      },
      "execution_count": 30,
      "outputs": [
        {
          "output_type": "stream",
          "name": "stdout",
          "text": [
            "Enter Height: 20\n",
            "          *\n",
            "         ***\n",
            "        *****\n",
            "       *******\n",
            "      *********\n",
            "     ***********\n",
            "    *************\n",
            "   ***************\n",
            "  *****************\n",
            " *******************\n",
            "*********************\n",
            " *******************\n",
            "  *****************\n",
            "   ***************\n",
            "    *************\n",
            "     ***********\n",
            "      *********\n",
            "       *******\n",
            "        *****\n",
            "         ***\n",
            "          *\n"
          ]
        }
      ]
    },
    {
      "cell_type": "code",
      "source": [
        "height = int(input(\"Enter diamond height: \"))\n",
        "middle = height // 2\n",
        "for i in range(middle + 1):\n",
        "    print(' ' * (middle - i) + '*' * (2 * i + 1))\n",
        "for i in range(middle - 1, -1, -1):\n",
        "    print(' ' * (middle - i) + '*' * (2 * i + 1))\n"
      ],
      "metadata": {
        "colab": {
          "base_uri": "https://localhost:8080/"
        },
        "id": "7f3X7Y5MN860",
        "outputId": "166c6c52-7795-49df-e972-ca18a1197ad5"
      },
      "execution_count": 32,
      "outputs": [
        {
          "output_type": "stream",
          "name": "stdout",
          "text": [
            "Enter diamond height: 20\n",
            "          *\n",
            "         ***\n",
            "        *****\n",
            "       *******\n",
            "      *********\n",
            "     ***********\n",
            "    *************\n",
            "   ***************\n",
            "  *****************\n",
            " *******************\n",
            "*********************\n",
            " *******************\n",
            "  *****************\n",
            "   ***************\n",
            "    *************\n",
            "     ***********\n",
            "      *********\n",
            "       *******\n",
            "        *****\n",
            "         ***\n",
            "          *\n"
          ]
        }
      ]
    },
    {
      "cell_type": "code",
      "source": [],
      "metadata": {
        "id": "idkPsCEDOKTg"
      },
      "execution_count": null,
      "outputs": []
    }
  ]
}