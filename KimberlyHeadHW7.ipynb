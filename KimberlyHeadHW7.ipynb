{
  "nbformat": 4,
  "nbformat_minor": 0,
  "metadata": {
    "colab": {
      "provenance": [],
      "authorship_tag": "ABX9TyOgx8kfg+feIZBGgxrDAEfC",
      "include_colab_link": true
    },
    "kernelspec": {
      "name": "python3",
      "display_name": "Python 3"
    },
    "language_info": {
      "name": "python"
    }
  },
  "cells": [
    {
      "cell_type": "markdown",
      "metadata": {
        "id": "view-in-github",
        "colab_type": "text"
      },
      "source": [
        "<a href=\"https://colab.research.google.com/github/kimberlyhead24/CIS567-integrated-lab-1/blob/main/KimberlyHeadHW7.ipynb\" target=\"_parent\"><img src=\"https://colab.research.google.com/assets/colab-badge.svg\" alt=\"Open In Colab\"/></a>"
      ]
    },
    {
      "cell_type": "code",
      "execution_count": 4,
      "metadata": {
        "colab": {
          "base_uri": "https://localhost:8080/"
        },
        "id": "ta_aGi5xZoN9",
        "outputId": "154ee139-c348-4e12-a829-b1e34b6935e8"
      },
      "outputs": [
        {
          "output_type": "stream",
          "name": "stdout",
          "text": [
            "Enter a word: Kimberly\n",
            "Total Number of Characters: 8\n",
            "KimberlyKimberlyKimberlyKimberlyKimberlyKimberlyKimberlyKimberlyKimberlyKimberly\n",
            "First Character: K\n",
            "First 3 Characters: Kim\n",
            "Last Character: rly\n",
            "Reversed Word: ylrebmiK\n",
            "Seventh Character: l\n"
          ]
        }
      ],
      "source": [
        "# Word Dissection\n",
        "word = input('Enter a word: ')\n",
        "\n",
        "print(f'Total Number of Characters: {len(word)}')\n",
        "\n",
        "# Word repeated 10 times\n",
        "print(f'{word*10}')\n",
        "\n",
        "print(f'First Character: {word[0]}')\n",
        "\n",
        "# The first 3 characters in the word\n",
        "print(f'First 3 Characters: {word[ :3]}')\n",
        "\n",
        "# The last 3 characters in the word\n",
        "print(f'Last Character: {word[-3: ]}')\n",
        "\n",
        "# The word reversed\n",
        "print(f'Reversed Word: {word[::-1]}')\n",
        "\n",
        "# The 7th character of the string, unless too short\n",
        "if len(word) >= 7:\n",
        "    print(f'Seventh Character: {word[6]}')\n",
        "else:\n",
        "    print('Word is too short')\n"
      ]
    },
    {
      "cell_type": "code",
      "source": [
        "# Checking if vowels in word but not in order or number of occurrences\n",
        "word = input('Enter a word: ')\n",
        "vowel = ''\n",
        "if 'a' in word:\n",
        "    vowel = vowel + 'a'\n",
        "if 'e' in word:\n",
        "    vowel = vowel + 'e'\n",
        "if 'i' in word:\n",
        "    vowel = vowel + 'i'\n",
        "if 'o' in word:\n",
        "    vowel = vowel + 'o'\n",
        "if 'u' in word:\n",
        "    vowel = vowel + 'u'\n",
        "\n",
        "if vowel != '':\n",
        "    print('Vowel in word')\n",
        "    print(vowel)\n",
        "else:\n",
        "    print('No Vowel')"
      ],
      "metadata": {
        "colab": {
          "base_uri": "https://localhost:8080/"
        },
        "id": "2BXfDpc5a-xG",
        "outputId": "8d23392d-6a2c-452a-e8ef-abbb1212f9d1"
      },
      "execution_count": 11,
      "outputs": [
        {
          "output_type": "stream",
          "name": "stdout",
          "text": [
            "Enter a word: Kimberly\n",
            "Vowel in word\n",
            "ei\n"
          ]
        }
      ]
    },
    {
      "cell_type": "code",
      "source": [
        "# Finding the vowels and printing them in order and the amount of times encountered\n",
        "word = input('Enter a word: ')\n",
        "vowels = ''\n",
        "for letter in word:\n",
        "    if letter in 'aeiou':\n",
        "        vowels = vowels + letter\n",
        "\n",
        "if vowels != '':\n",
        "    print('Vowel(s) in word:', vowels)\n",
        "else:\n",
        "    print('No Vowel')\n"
      ],
      "metadata": {
        "colab": {
          "base_uri": "https://localhost:8080/"
        },
        "id": "94i5fsWqce-V",
        "outputId": "74dfebaa-8a23-4ef2-d69f-8f59779420c3"
      },
      "execution_count": 12,
      "outputs": [
        {
          "output_type": "stream",
          "name": "stdout",
          "text": [
            "Enter a word: Kimberly Head\n",
            "Vowel(s) in word: ieea\n"
          ]
        }
      ]
    }
  ]
}