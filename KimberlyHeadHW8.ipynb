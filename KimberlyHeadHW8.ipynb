{
  "nbformat": 4,
  "nbformat_minor": 0,
  "metadata": {
    "colab": {
      "provenance": [],
      "authorship_tag": "ABX9TyP3eQDEQ4FgS0uIeKfGpPrW",
      "include_colab_link": true
    },
    "kernelspec": {
      "name": "python3",
      "display_name": "Python 3"
    },
    "language_info": {
      "name": "python"
    }
  },
  "cells": [
    {
      "cell_type": "markdown",
      "metadata": {
        "id": "view-in-github",
        "colab_type": "text"
      },
      "source": [
        "<a href=\"https://colab.research.google.com/github/kimberlyhead24/CIS567-integrated-lab-1/blob/main/KimberlyHeadHW8.ipynb\" target=\"_parent\"><img src=\"https://colab.research.google.com/assets/colab-badge.svg\" alt=\"Open In Colab\"/></a>"
      ]
    },
    {
      "cell_type": "code",
      "execution_count": 2,
      "metadata": {
        "colab": {
          "base_uri": "https://localhost:8080/"
        },
        "id": "1eVwerPr1ZD1",
        "outputId": "d2b0620f-cebf-4c2b-a938-c5ae7539afa5"
      },
      "outputs": [
        {
          "output_type": "stream",
          "name": "stdout",
          "text": [
            "Enter word or phrase: Happy BirthdAy Sarah!!!!!\n",
            "appy BirthdAy Sarah!!!!\n",
            "HAPPY BIRTHDAY SARAH!!!!!\n",
            "Heppy BirthdEy Sereh!!!!!\n",
            "                    !!!!!\n"
          ]
        }
      ],
      "source": [
        "# Gather string from user and perform a wordplay with it\n",
        "word = input('Enter word or phrase: ')\n",
        "\n",
        "# set a variable for building with spaces\n",
        "new_word = ''\n",
        "\n",
        "# Displaying without first and last character\n",
        "print(word[1:-1])\n",
        "\n",
        "# Displaying in all caps\n",
        "print(word.upper())\n",
        "\n",
        "# Displaying a's with e's, uppercase or lowercase\n",
        "print(word.replace('a', 'e').replace('A','E'))\n",
        "\n",
        "# rebuilding the word or phrase with all spaces for alpha letters\n",
        "for letter in word:\n",
        "    if letter.isalpha():\n",
        "        new_word += ' '\n",
        "    else:\n",
        "        new_word += letter\n",
        "\n",
        "# Display new word\n",
        "print(new_word)\n"
      ]
    },
    {
      "cell_type": "code",
      "source": [
        "# More wordplay\n",
        "\n",
        "# Gather string from user\n",
        "string = input('Enter a string: ')\n",
        "\n",
        "# add 3 exclamation points to the end\n",
        "newer_string = string + '!!!'\n",
        "\n",
        "# Replace was an option, but then if the second letter is 'a'\n",
        "# and there are more 'a's in the word it would replace all\n",
        "# Instead, rebuild the word\n",
        "newest_string = newer_string[:1] + '*' + newer_string[2:]\n",
        "\n",
        "# Display new word\n",
        "print(newest_string)\n",
        "\n",
        "\n"
      ],
      "metadata": {
        "colab": {
          "base_uri": "https://localhost:8080/"
        },
        "id": "0FWGGzHe6grm",
        "outputId": "2cbdce67-d54c-4125-e6bd-87ee1234af5a"
      },
      "execution_count": 7,
      "outputs": [
        {
          "output_type": "stream",
          "name": "stdout",
          "text": [
            "Enter a string: Qbert\n",
            "Q*ert!!!\n"
          ]
        }
      ]
    },
    {
      "cell_type": "code",
      "source": [
        " # Shortcuts to turn string to lowercase and removes '.' and ','\n",
        "s= input('Enter a string: ')\n",
        "new_s = s.lower().replace('.','').replace(',','')\n",
        "print(new_s)\n",
        "\n"
      ],
      "metadata": {
        "colab": {
          "base_uri": "https://localhost:8080/"
        },
        "id": "JzPNa71dKgAY",
        "outputId": "cf7db78d-3ec7-49b3-e3f6-d1ff1da621b8"
      },
      "execution_count": 10,
      "outputs": [
        {
          "output_type": "stream",
          "name": "stdout",
          "text": [
            "Enter a string: HELLO. WHAT's up, with you.\n",
            "hello what's up with you\n"
          ]
        }
      ]
    },
    {
      "cell_type": "code",
      "source": [
        "# Determine if the word entered is a palindrome.\n",
        "# Palindrome (reads same forwards as backwards).\n",
        "\n",
        "# Get word from user.\n",
        "word = input('Enter word: ')\n",
        "\n",
        "# Create a variable for the new word (word backwards) for comparison.\n",
        "backwards_word= ''\n",
        "\n",
        "# Iterate through each letter. Add the word backwards to the variable.\n",
        "for i in range(len(word)):\n",
        "  backwards_word += word[-(i+1)]\n",
        "if backwards_word == word:\n",
        "  print(f'{word} is a palindrome')\n",
        "else:\n",
        "  print(f'{word} is not a palindrome')\n"
      ],
      "metadata": {
        "colab": {
          "base_uri": "https://localhost:8080/"
        },
        "id": "Wm5au-KVLkqg",
        "outputId": "ccbbcbd4-3937-410b-b2e7-ebe8cede60d5"
      },
      "execution_count": 13,
      "outputs": [
        {
          "output_type": "stream",
          "name": "stdout",
          "text": [
            "Enter word: cat\n",
            "cat is not a palindrome\n"
          ]
        }
      ]
    },
    {
      "cell_type": "code",
      "source": [
        "# Another way to see if the word is a palindrome,\n",
        "# but with slicing instead of rebuilding the word\n",
        "\n",
        "# Gather word from user\n",
        "word = input('Enter word: ')\n",
        "\n",
        "# Eliminate the need for a for loop and slice the word backwards\n",
        "if word == word[::-1]:\n",
        "    print(f'{word} is a palindrome')\n",
        "else:\n",
        "    print(f'{word} is not a palindrome')"
      ],
      "metadata": {
        "colab": {
          "base_uri": "https://localhost:8080/"
        },
        "id": "0Y7C-j6INMyi",
        "outputId": "897942d2-5d5e-4ce4-c6bd-1a46347f8947"
      },
      "execution_count": 50,
      "outputs": [
        {
          "output_type": "stream",
          "name": "stdout",
          "text": [
            "Enter word: racecar\n",
            "racecar is a palindrome\n"
          ]
        }
      ]
    },
    {
      "cell_type": "code",
      "source": [
        "# Gather number from user\n",
        "num = eval(input('Enter a number: '))\n",
        "\n",
        "# Iterate through the num + 1 starting with 1\n",
        "for i in range(1, num+1):\n",
        "    print(' '*(i-1) + str(i))\n",
        "\n",
        "# Display it as space * the number minus 1 because 1 has no space\n",
        "# then add the number it is on"
      ],
      "metadata": {
        "colab": {
          "base_uri": "https://localhost:8080/"
        },
        "id": "kBRz1hV2N9Pd",
        "outputId": "d47a8d60-306a-4537-b123-d81654fdab66"
      },
      "execution_count": 26,
      "outputs": [
        {
          "output_type": "stream",
          "name": "stdout",
          "text": [
            "Enter a number: 4\n",
            "1\n",
            " 2\n",
            "  3\n",
            "   4\n"
          ]
        }
      ]
    },
    {
      "cell_type": "code",
      "source": [
        "# Doubling each letter of a string and printing on different lines\n",
        "string = input('Enter a string: ')\n",
        "for i in range(len(string)):\n",
        "    print(string[i]*2)"
      ],
      "metadata": {
        "colab": {
          "base_uri": "https://localhost:8080/"
        },
        "id": "JwpfZRcERn3t",
        "outputId": "24485aea-de8f-4611-fb40-19c6b58dad43"
      },
      "execution_count": 29,
      "outputs": [
        {
          "output_type": "stream",
          "name": "stdout",
          "text": [
            "Enter a string: Kimberly\n",
            "KK\n",
            "ii\n",
            "mm\n",
            "bb\n",
            "ee\n",
            "rr\n",
            "ll\n",
            "yy\n"
          ]
        }
      ]
    },
    {
      "cell_type": "code",
      "source": [
        "# Taking the user's lowercase name and capitalizing the first letter\n",
        "# after each space\n",
        "\n",
        "# Get name from user\n",
        "name = input('Enter your full name in lowercase: ')\n",
        "\n",
        "# Create a new variable for the rebuild of the name\n",
        "full_name = ''\n",
        "\n",
        "# Iterate through the name\n",
        "for i in range(len(name)):\n",
        "\n",
        "    # Capitalize if first letter or letter after space\n",
        "    if i == 0 or name[i - 1] == ' ':\n",
        "        full_name += name[i].upper()\n",
        "    else:\n",
        "        full_name += name[i]\n",
        "    # Add the rest to the full_name variable as normal\n",
        "print(full_name)\n"
      ],
      "metadata": {
        "colab": {
          "base_uri": "https://localhost:8080/"
        },
        "id": "G1F4LLzXSToW",
        "outputId": "d34024ac-f3fc-45f8-e0c8-91fa1dcfe92e"
      },
      "execution_count": 34,
      "outputs": [
        {
          "output_type": "stream",
          "name": "stdout",
          "text": [
            "Enter your full name in lowercase: jeffrey jones\n",
            "Jeffrey Jones\n"
          ]
        }
      ]
    },
    {
      "cell_type": "code",
      "source": [
        "# Creating a personalized advertisement (not simple way with one word as name,\n",
        "# but I tried to make it q real-life scenario)\n",
        "first_name_list= []\n",
        "last_name_list = []\n",
        "price = 47.99\n",
        "phone_number = '1-800-314-1592'\n",
        "\n",
        "# I did not use a for loop originally, but since I chose\n",
        "# to do a list, I may as well make a list of 3 names\n",
        "for i in range(3):\n",
        "  name = input('Enter your name: ')\n",
        "  first_name = name.split()[0]    # First index is first name\n",
        "  last_name = name.split()[1]     # Second index is last name\n",
        "  first_name_list.append(first_name)  # add the names to the list\n",
        "  last_name_list.append(last_name)\n",
        "\n",
        "# Create my advertisement with variables entered\n",
        "  print(f'Dear {first_name} {last_name}, \\nI am pleased to offer you our new Platinum Plus\\nRewards card at a special introductory price APR of\\n{price}%. {first_name}, an offer like this does not come\\nalong every day, so I urge you to call now toll-free\\nat {phone_number}. We cannot offer such a low rate\\nfor long, {first_name}, so call right away.')\n",
        "\n",
        "# Displaying the list of names\n",
        "print(first_name_list)\n",
        "print(last_name_list)"
      ],
      "metadata": {
        "colab": {
          "base_uri": "https://localhost:8080/"
        },
        "id": "LEsIVgOhV2FZ",
        "outputId": "17c0d209-8aee-4d6f-e4fb-049ce310dc1f"
      },
      "execution_count": 41,
      "outputs": [
        {
          "output_type": "stream",
          "name": "stdout",
          "text": [
            "Enter your name: Kimberly Head\n",
            "Dear Kimberly Head, \n",
            "I am pleased to offer you our new Platinum Plus\n",
            "Rewards card at a special introductory price APR of\n",
            "47.99%. Kimberly, an offer like this does not come\n",
            "along every day, so I urge you to call now toll-free\n",
            "at 1-800-314-1592. We cannot offer such a low rate\n",
            "for long, Kimberly, so call right away.\n",
            "Enter your name: Joseph Keller\n",
            "Dear Joseph Keller, \n",
            "I am pleased to offer you our new Platinum Plus\n",
            "Rewards card at a special introductory price APR of\n",
            "47.99%. Joseph, an offer like this does not come\n",
            "along every day, so I urge you to call now toll-free\n",
            "at 1-800-314-1592. We cannot offer such a low rate\n",
            "for long, Joseph, so call right away.\n",
            "Enter your name: Charles Kent\n",
            "Dear Charles Kent, \n",
            "I am pleased to offer you our new Platinum Plus\n",
            "Rewards card at a special introductory price APR of\n",
            "47.99%. Charles, an offer like this does not come\n",
            "along every day, so I urge you to call now toll-free\n",
            "at 1-800-314-1592. We cannot offer such a low rate\n",
            "for long, Charles, so call right away.\n",
            "['Kimberly', 'Joseph', 'Charles']\n",
            "['Head', 'Keller', 'Kent']\n"
          ]
        }
      ]
    },
    {
      "cell_type": "code",
      "source": [
        "# Splitting a word at the 'a' and after the 'a' it goes to a new line\n",
        "\n",
        "# Gather word from user\n",
        "word = input('Enter a word that contains the letter a: ')\n",
        "\n",
        "# iterate through the letters in the word, find the index, which is now i\n",
        "for i in range(len(word)):\n",
        "  if word[i]=='a':\n",
        "   print(f'{word[:i+1]}\\n{word[i+1:]}')\n",
        "\n",
        "# display the word including the a and then newline and then the rest of the word"
      ],
      "metadata": {
        "colab": {
          "base_uri": "https://localhost:8080/"
        },
        "id": "kAKC7CqLaDMG",
        "outputId": "8e3f33d9-82d0-49bb-be4b-01c34d373e73"
      },
      "execution_count": 47,
      "outputs": [
        {
          "output_type": "stream",
          "name": "stdout",
          "text": [
            "Enter a word that contains the letter a: buffalo\n",
            "buffa\n",
            "lo\n"
          ]
        }
      ]
    }
  ]
}